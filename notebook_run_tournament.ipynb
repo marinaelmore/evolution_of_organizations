{
 "cells": [
  {
   "cell_type": "code",
   "execution_count": 18,
   "id": "23d316b4-febc-4123-8669-afeb7f1e0998",
   "metadata": {},
   "outputs": [
    {
     "name": "stderr",
     "output_type": "stream",
     "text": [
      "Playing matches: 100%|█████████████████████████████████████████████████████████████████████████████████████████████████████████| 6/6 [00:00<00:00, 87.93it/s]\n",
      "Analysing: 100%|████████████████████████████████████████████████████████████████████████████████████████████████████████████| 25/25 [00:00<00:00, 586.44it/s]\n"
     ]
    },
    {
     "name": "stdout",
     "output_type": "stream",
     "text": [
      "Teams: ['BackStabber: (D, D)', 'Alternator', 'Cooperator']\n",
      "Wins: [[0, 0, 0, 0, 0, 0, 0, 0, 0, 0], [1, 1, 1, 1, 1, 1, 1, 1, 1, 1], [2, 2, 2, 2, 2, 2, 2, 2, 2, 2]]\n",
      "Final Score: [[894, 894, 894, 894, 894, 894, 894, 894, 894, 894], [928, 928, 928, 928, 928, 928, 928, 928, 928, 928], [1192, 1192, 1192, 1192, 1192, 1192, 1192, 1192, 1192, 1192]]\n",
      "Cooperation: [[1.0, 1.0, 1.0], [0.5, 0.5, 0.5], [0.99, 0.04, 0.99]]\n",
      "Payoff: [[3.0, 1.5, 2.9699999999999998], [4.0, 2.0, 0.6399999999999999], [3.02, 2.9400000000000004, 2.98]]\n",
      "The Payoff for each team is: \n",
      "   Team Number  Team Payoff\n",
      "0            1        11.02\n",
      "1            2         7.44\n",
      "2            3         7.59\n",
      "\n",
      "\n"
     ]
    },
    {
     "name": "stderr",
     "output_type": "stream",
     "text": [
      "Playing matches: 100%|████████████████████████████████████████████████████████████████████████████████████████████████████████| 6/6 [00:00<00:00, 122.77it/s]\n",
      "Analysing: 100%|████████████████████████████████████████████████████████████████████████████████████████████████████████████| 25/25 [00:00<00:00, 585.08it/s]"
     ]
    },
    {
     "name": "stdout",
     "output_type": "stream",
     "text": [
      "Teams: ['BackStabber: (D, D)', 'Alternator', 'Cooperator']\n",
      "Wins: [[0, 0, 0, 0, 0, 0, 0, 0, 0, 0], [1, 1, 1, 1, 1, 1, 1, 1, 1, 1], [2, 2, 2, 2, 2, 2, 2, 2, 2, 2]]\n",
      "Final Score: [[894, 894, 894, 894, 894, 894, 894, 894, 894, 894], [928, 928, 928, 928, 928, 928, 928, 928, 928, 928], [1192, 1192, 1192, 1192, 1192, 1192, 1192, 1192, 1192, 1192]]\n",
      "Cooperation: [[1.0, 1.0, 1.0], [0.5, 0.5, 0.5], [0.99, 0.04, 0.99]]\n",
      "Payoff: [[3.0, 1.5, 2.9699999999999998], [4.0, 2.0, 0.6399999999999999], [3.02, 2.9400000000000004, 2.98]]\n",
      "The Payoff for each team is: \n",
      "   Team Number  Team Payoff\n",
      "0            1        11.02\n",
      "1            2         7.44\n",
      "2            3         7.59\n",
      "\n",
      "\n"
     ]
    },
    {
     "name": "stderr",
     "output_type": "stream",
     "text": [
      "\n"
     ]
    }
   ],
   "source": [
    "import axelrod as axl\n",
    "from random import randrange\n",
    "from config import *\n",
    "\n",
    "\n",
    "class Team:\n",
    "    def __init__(self, strategy):\n",
    "        self.strategy = strategy\n",
    "        self.resources = 0\n",
    "        self.head_count = 0\n",
    "\n",
    "class Organization:\n",
    "    def __init__(self):\n",
    "        self.resources = float(randrange(COMPANY_RESOURCES_MIN, COMPANY_RESOURCES_MAX))\n",
    "        self.head_count = randrange(COMPANY_HEADCOUNT_MIN, COMPANY_HEADCOUNT_MAX)\n",
    "        self.teams = []\n",
    "\n",
    "        for strategy in STRATEGIES:\n",
    "            self.teams.append(Team(strategy))\n",
    "\n",
    "        self.allocate_team_resources()\n",
    "\n",
    "    #TODO\n",
    "    def allocate_team_resources(self):\n",
    "        # Some random algorithm to randomly allocate between teams\n",
    "        num_teams = len(self.teams)\n",
    "\n",
    "        # Right now it just does it equally between teams\n",
    "        for team in self.teams:\n",
    "            team.resources = float(self.resources/num_teams)\n",
    "            team.head_count = round(self.head_count/num_teams)\n",
    "    \n",
    "    #TODO\n",
    "    def reallocate_team_resources(self, tournament):\n",
    "        scores = tournament.scores\n",
    "        wins = tournament.wins\n",
    "        final_score = tournament.scores\n",
    "        cooperation = tournament.cooperation\n",
    "        norm_cooperation = tournament.normalised_cooperation\n",
    "        ranking = tournament.ranked_names\n",
    "        payoff = tournament.payoff_matrix\n",
    "        \n",
    "        #Find the total payoff for each team (sum across all rounds) -- ADDED BY ELIZABETH\n",
    "        payoff_df = pd.DataFrame(payoff)\n",
    "        sum_payoff = payoff_df.sum(axis=0)\n",
    "        sum_payoff = pd.DataFrame({'Team Payoff': sum_payoff})\n",
    "        sum_payoff.index.name = 'Team Number'\n",
    "        sum_payoff = sum_payoff.reset_index()+1\n",
    "        \n",
    "        # Display Output\n",
    "        print(\"Teams: {}\".format(ranking))\n",
    "        print(\"Wins: {}\".format(wins))\n",
    "        print(\"Final Score: {}\".format(final_score))\n",
    "        print(\"Cooperation: {}\".format(norm_cooperation))\n",
    "        print(\"Payoff: {}\".format(payoff))\n",
    "        print(\"The Payoff for each team is: \\n{}\".format(sum_payoff)) # -- ADDED BY ELIZABETH\n",
    "        print(\"\\n\")\n",
    "\n",
    "def allocate_company_resources():\n",
    "    resources = float(randrange(COMPANY_RESOURCES_MIN, COMPANY_RESOURCES_MAX))\n",
    "    head_count = randrange(COMPANY_HEADCOUNT_MIN, COMPANY_HEADCOUNT_MAX)\n",
    "    return resources, head_count\n",
    "\n",
    "def run_match(teams):\n",
    "    team1 = teams[0]\n",
    "    team2 = teams[1]\n",
    "    num_rounds = max(team1.head_count, team2.head_count)\n",
    "\n",
    "    # Run Match\n",
    "    match = axl.Match((team1.strategy, team2.strategy), num_rounds)\n",
    "    match.play()\n",
    "\n",
    "    return match\n",
    "\n",
    "def run_tournament(teams):\n",
    "    tournament = axl.Tournament(teams)\n",
    "    results = tournament.play()\n",
    "    return results\n",
    "\n",
    "def main():\n",
    "    # Set Up Company and Teams\n",
    "    my_org = Organization()\n",
    "\n",
    "    # Run Tournament\n",
    "    all_rounds = []\n",
    "    for round in range(0,NUM_ROUNDS):\n",
    "\n",
    "        tournament_results = run_tournament([team.strategy for team in my_org.teams])\n",
    "\n",
    "        all_rounds.append(tournament_results)\n",
    "\n",
    "        # TODO - Relloacate resources after each round\n",
    "        my_org.reallocate_team_resources(tournament_results)\n",
    "\n",
    "    # TODO - once game over, need to do some analysis on results\n",
    "\n",
    "if __name__ == \"__main__\":\n",
    "    main()"
   ]
  },
  {
   "cell_type": "code",
   "execution_count": 5,
   "id": "ff2125f3-dbe8-417f-916e-02993fed22ef",
   "metadata": {},
   "outputs": [
    {
     "name": "stdout",
     "output_type": "stream",
     "text": [
      "   Score    Team Opponent\n",
      "0     10  Team 1   Team 2\n",
      "1     20  Team 1   Team 1\n",
      "2     15  Team 2   Team 1\n",
      "3     25  Team 2   Team 2\n"
     ]
    }
   ],
   "source": [
    "import pandas as pd\n",
    "\n",
    "# create a DataFrame with some data\n",
    "df = pd.DataFrame({'Score': [10, 20, 15, 25], 'Team': ['Team 1', 'Team 1', 'Team 2', 'Team 2']})\n",
    "\n",
    "# create a new column with a list of team names\n",
    "df['Opponent'] = ['Team 2', 'Team 1', 'Team 1', 'Team 2']\n",
    "\n",
    "# print the updated DataFrame\n",
    "print(df)"
   ]
  }
 ],
 "metadata": {
  "kernelspec": {
   "display_name": "Python 3 (ipykernel)",
   "language": "python",
   "name": "python3"
  },
  "language_info": {
   "codemirror_mode": {
    "name": "ipython",
    "version": 3
   },
   "file_extension": ".py",
   "mimetype": "text/x-python",
   "name": "python",
   "nbconvert_exporter": "python",
   "pygments_lexer": "ipython3",
   "version": "3.9.13"
  }
 },
 "nbformat": 4,
 "nbformat_minor": 5
}
